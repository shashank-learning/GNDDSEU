{
 "cells": [
  {
   "cell_type": "markdown",
   "metadata": {},
   "source": [
    "# EDUNET FOUNDATION-Class Exercise Notebook"
   ]
  },
  {
   "cell_type": "markdown",
   "metadata": {},
   "source": [
    "## LAB 2 - CRUD Operation of MongoDB Using Python"
   ]
  },
  {
   "cell_type": "code",
   "execution_count": 1,
   "metadata": {},
   "outputs": [],
   "source": [
    "import pymongo"
   ]
  },
  {
   "cell_type": "code",
   "execution_count": 2,
   "metadata": {},
   "outputs": [],
   "source": [
    "myclient = pymongo.MongoClient(\"mongodb://localhost:27017/\")"
   ]
  },
  {
   "cell_type": "markdown",
   "metadata": {},
   "source": [
    "### Creating new database and collection in MongoDB"
   ]
  },
  {
   "cell_type": "code",
   "execution_count": 3,
   "metadata": {},
   "outputs": [],
   "source": [
    "infosys_db=myclient[\"infosys_db\"]"
   ]
  },
  {
   "cell_type": "code",
   "execution_count": 4,
   "metadata": {},
   "outputs": [],
   "source": [
    "emp_coll=infosys_db['emp_coll']"
   ]
  },
  {
   "cell_type": "markdown",
   "metadata": {},
   "source": [
    "### However, the database and the collection are not created until you add some content to them. lets fill them with data."
   ]
  },
  {
   "cell_type": "code",
   "execution_count": 5,
   "metadata": {},
   "outputs": [],
   "source": [
    "document = {\n",
    "    \"Name\":\"Aman\",\n",
    "    \"Age\":25,\n",
    "    \"State\":\"Gujarat\",\n",
    "    \"Profile\":\"Developer\",\n",
    "    \"Salary\":55000,\n",
    "    \"Experience\":3,\n",
    "    \"Skills\":[\"PHP\",\"MySQL\"]   \n",
    "   }"
   ]
  },
  {
   "cell_type": "code",
   "execution_count": 6,
   "metadata": {},
   "outputs": [
    {
     "data": {
      "text/plain": [
       "<pymongo.results.InsertOneResult at 0x1447021c1c0>"
      ]
     },
     "execution_count": 6,
     "metadata": {},
     "output_type": "execute_result"
    }
   ],
   "source": [
    "emp_coll.insert_one(document)"
   ]
  },
  {
   "cell_type": "markdown",
   "metadata": {},
   "source": [
    "### Inserting Multiple Documents Using insert_many() methods"
   ]
  },
  {
   "cell_type": "code",
   "execution_count": 7,
   "metadata": {},
   "outputs": [],
   "source": [
    "emp_data= [\n",
    "    {\n",
    "    \"Name\":\"Priya\",\n",
    "    \"Age\":23,\n",
    "    \"State\":\"Delhi\",\n",
    "    \"Profile\":\"Tester\",\n",
    "    \"Salary\":35000,\n",
    "    \"Experience\":2,\n",
    "    \"Skills\":[\"PHP\",\"MySQL\",'Agile','Selenium']   \n",
    "   },\n",
    "    {\n",
    "    \"Name\":\"Karan\",\n",
    "    \"Age\":24,\n",
    "    \"State\":\"Punjab\",\n",
    "    \"Profile\":\"Developer\",\n",
    "    \"Salary\":57000,\n",
    "    \"Experience\":3,\n",
    "    \"Skills\":[\"Python\",\"MySQL\",\"MongoDB\"]   \n",
    "   },\n",
    "    {\n",
    "    \"Name\":\"Prince\",\n",
    "    \"Age\":27,\n",
    "    \"State\":\"Gujarat\",\n",
    "    \"Profile\":\"Developer\",\n",
    "    \"Salary\":75000,\n",
    "    \"Experience\":5,\n",
    "    \"Skills\":[\"Python\",\"MySQL\",\"MongoDB\",\"ML\"]   \n",
    "   }\n",
    "]"
   ]
  },
  {
   "cell_type": "code",
   "execution_count": 8,
   "metadata": {},
   "outputs": [],
   "source": [
    "emp=emp_coll.insert_many(emp_data)"
   ]
  },
  {
   "cell_type": "markdown",
   "metadata": {},
   "source": [
    "### List all collections inside infosys_db database"
   ]
  },
  {
   "cell_type": "code",
   "execution_count": 9,
   "metadata": {},
   "outputs": [
    {
     "data": {
      "text/plain": [
       "['emp_coll']"
      ]
     },
     "execution_count": 9,
     "metadata": {},
     "output_type": "execute_result"
    }
   ],
   "source": [
    "infosys_db.list_collection_names()"
   ]
  },
  {
   "cell_type": "code",
   "execution_count": 10,
   "metadata": {},
   "outputs": [],
   "source": [
    "#Accessing Collection \n",
    "emp_coll=infosys_db['emp_coll']"
   ]
  },
  {
   "cell_type": "markdown",
   "metadata": {},
   "source": [
    "### Reading Documents"
   ]
  },
  {
   "cell_type": "code",
   "execution_count": 11,
   "metadata": {},
   "outputs": [],
   "source": [
    "results=emp_coll.find()"
   ]
  },
  {
   "cell_type": "code",
   "execution_count": 12,
   "metadata": {},
   "outputs": [
    {
     "data": {
      "text/plain": [
       "<pymongo.cursor.Cursor at 0x144702465b0>"
      ]
     },
     "execution_count": 12,
     "metadata": {},
     "output_type": "execute_result"
    }
   ],
   "source": [
    "results"
   ]
  },
  {
   "cell_type": "code",
   "execution_count": 13,
   "metadata": {},
   "outputs": [
    {
     "name": "stdout",
     "output_type": "stream",
     "text": [
      "{'_id': ObjectId('64e59fa6104ecd2f611069f5'), 'Name': 'Aman', 'Age': 25, 'State': 'Gujarat', 'Profile': 'Developer', 'Salary': 55000, 'Experience': 3, 'Skills': ['PHP', 'MySQL']}\n",
      "{'_id': ObjectId('64e59fa6104ecd2f611069f6'), 'Name': 'Priya', 'Age': 23, 'State': 'Delhi', 'Profile': 'Tester', 'Salary': 35000, 'Experience': 2, 'Skills': ['PHP', 'MySQL', 'Agile', 'Selenium']}\n",
      "{'_id': ObjectId('64e59fa6104ecd2f611069f7'), 'Name': 'Karan', 'Age': 24, 'State': 'Punjab', 'Profile': 'Developer', 'Salary': 57000, 'Experience': 3, 'Skills': ['Python', 'MySQL', 'MongoDB']}\n",
      "{'_id': ObjectId('64e59fa6104ecd2f611069f8'), 'Name': 'Prince', 'Age': 27, 'State': 'Gujarat', 'Profile': 'Developer', 'Salary': 75000, 'Experience': 5, 'Skills': ['Python', 'MySQL', 'MongoDB', 'ML']}\n"
     ]
    }
   ],
   "source": [
    "for data in results:\n",
    "    print(data)"
   ]
  },
  {
   "cell_type": "markdown",
   "metadata": {},
   "source": [
    "### Reading Specific One document"
   ]
  },
  {
   "cell_type": "code",
   "execution_count": 14,
   "metadata": {},
   "outputs": [
    {
     "data": {
      "text/plain": [
       "{'_id': ObjectId('64e59fa6104ecd2f611069f5'),\n",
       " 'Name': 'Aman',\n",
       " 'Age': 25,\n",
       " 'State': 'Gujarat',\n",
       " 'Profile': 'Developer',\n",
       " 'Salary': 55000,\n",
       " 'Experience': 3,\n",
       " 'Skills': ['PHP', 'MySQL']}"
      ]
     },
     "execution_count": 14,
     "metadata": {},
     "output_type": "execute_result"
    }
   ],
   "source": [
    "emp_coll.find_one()"
   ]
  },
  {
   "cell_type": "markdown",
   "metadata": {},
   "source": [
    "### Querying Specific Document\n"
   ]
  },
  {
   "cell_type": "code",
   "execution_count": 15,
   "metadata": {},
   "outputs": [
    {
     "data": {
      "text/plain": [
       "{'_id': ObjectId('64e59fa6104ecd2f611069f7'),\n",
       " 'Name': 'Karan',\n",
       " 'Age': 24,\n",
       " 'State': 'Punjab',\n",
       " 'Profile': 'Developer',\n",
       " 'Salary': 57000,\n",
       " 'Experience': 3,\n",
       " 'Skills': ['Python', 'MySQL', 'MongoDB']}"
      ]
     },
     "execution_count": 15,
     "metadata": {},
     "output_type": "execute_result"
    }
   ],
   "source": [
    "emp_coll.find_one({\"Name\":\"Karan\"})"
   ]
  },
  {
   "cell_type": "code",
   "execution_count": 16,
   "metadata": {},
   "outputs": [],
   "source": [
    "results2=emp_coll.find({\"State\":\"Gujarat\"})"
   ]
  },
  {
   "cell_type": "code",
   "execution_count": 17,
   "metadata": {},
   "outputs": [
    {
     "data": {
      "text/plain": [
       "<pymongo.cursor.Cursor at 0x14470255040>"
      ]
     },
     "execution_count": 17,
     "metadata": {},
     "output_type": "execute_result"
    }
   ],
   "source": [
    "results2"
   ]
  },
  {
   "cell_type": "code",
   "execution_count": 18,
   "metadata": {},
   "outputs": [
    {
     "name": "stdout",
     "output_type": "stream",
     "text": [
      "{'_id': ObjectId('64e59fa6104ecd2f611069f5'), 'Name': 'Aman', 'Age': 25, 'State': 'Gujarat', 'Profile': 'Developer', 'Salary': 55000, 'Experience': 3, 'Skills': ['PHP', 'MySQL']}\n",
      "{'_id': ObjectId('64e59fa6104ecd2f611069f8'), 'Name': 'Prince', 'Age': 27, 'State': 'Gujarat', 'Profile': 'Developer', 'Salary': 75000, 'Experience': 5, 'Skills': ['Python', 'MySQL', 'MongoDB', 'ML']}\n"
     ]
    }
   ],
   "source": [
    "for data in results2:\n",
    "    print(data)"
   ]
  },
  {
   "cell_type": "code",
   "execution_count": null,
   "metadata": {},
   "outputs": [],
   "source": []
  },
  {
   "cell_type": "markdown",
   "metadata": {},
   "source": [
    "### Updating Document"
   ]
  },
  {
   "cell_type": "code",
   "execution_count": 19,
   "metadata": {},
   "outputs": [
    {
     "data": {
      "text/plain": [
       "<pymongo.results.UpdateResult at 0x1447021cac0>"
      ]
     },
     "execution_count": 19,
     "metadata": {},
     "output_type": "execute_result"
    }
   ],
   "source": [
    "emp_coll.update_many({\"Profile\":\"Developer\"},{\"$set\":{\"Profile\":\"Web Application Developer\"}})"
   ]
  },
  {
   "cell_type": "code",
   "execution_count": 20,
   "metadata": {},
   "outputs": [],
   "source": [
    "update_results=emp_coll.find()"
   ]
  },
  {
   "cell_type": "code",
   "execution_count": 21,
   "metadata": {},
   "outputs": [
    {
     "name": "stdout",
     "output_type": "stream",
     "text": [
      "{'_id': ObjectId('64e59fa6104ecd2f611069f5'), 'Name': 'Aman', 'Age': 25, 'State': 'Gujarat', 'Profile': 'Web Application Developer', 'Salary': 55000, 'Experience': 3, 'Skills': ['PHP', 'MySQL']}\n",
      "{'_id': ObjectId('64e59fa6104ecd2f611069f6'), 'Name': 'Priya', 'Age': 23, 'State': 'Delhi', 'Profile': 'Tester', 'Salary': 35000, 'Experience': 2, 'Skills': ['PHP', 'MySQL', 'Agile', 'Selenium']}\n",
      "{'_id': ObjectId('64e59fa6104ecd2f611069f7'), 'Name': 'Karan', 'Age': 24, 'State': 'Punjab', 'Profile': 'Web Application Developer', 'Salary': 57000, 'Experience': 3, 'Skills': ['Python', 'MySQL', 'MongoDB']}\n",
      "{'_id': ObjectId('64e59fa6104ecd2f611069f8'), 'Name': 'Prince', 'Age': 27, 'State': 'Gujarat', 'Profile': 'Web Application Developer', 'Salary': 75000, 'Experience': 5, 'Skills': ['Python', 'MySQL', 'MongoDB', 'ML']}\n"
     ]
    }
   ],
   "source": [
    "for data in update_results:\n",
    "    print(data)"
   ]
  },
  {
   "cell_type": "markdown",
   "metadata": {},
   "source": [
    "### Deleting Documents"
   ]
  },
  {
   "cell_type": "code",
   "execution_count": 22,
   "metadata": {},
   "outputs": [
    {
     "data": {
      "text/plain": [
       "<pymongo.results.DeleteResult at 0x144700c15e0>"
      ]
     },
     "execution_count": 22,
     "metadata": {},
     "output_type": "execute_result"
    }
   ],
   "source": [
    "emp_coll.delete_many({\"Name\":\"Aman\"})"
   ]
  },
  {
   "cell_type": "code",
   "execution_count": 23,
   "metadata": {},
   "outputs": [],
   "source": [
    "final_results=emp_coll.find()"
   ]
  },
  {
   "cell_type": "code",
   "execution_count": 24,
   "metadata": {},
   "outputs": [
    {
     "name": "stdout",
     "output_type": "stream",
     "text": [
      "{'_id': ObjectId('64e59fa6104ecd2f611069f6'), 'Name': 'Priya', 'Age': 23, 'State': 'Delhi', 'Profile': 'Tester', 'Salary': 35000, 'Experience': 2, 'Skills': ['PHP', 'MySQL', 'Agile', 'Selenium']}\n",
      "{'_id': ObjectId('64e59fa6104ecd2f611069f7'), 'Name': 'Karan', 'Age': 24, 'State': 'Punjab', 'Profile': 'Web Application Developer', 'Salary': 57000, 'Experience': 3, 'Skills': ['Python', 'MySQL', 'MongoDB']}\n",
      "{'_id': ObjectId('64e59fa6104ecd2f611069f8'), 'Name': 'Prince', 'Age': 27, 'State': 'Gujarat', 'Profile': 'Web Application Developer', 'Salary': 75000, 'Experience': 5, 'Skills': ['Python', 'MySQL', 'MongoDB', 'ML']}\n"
     ]
    }
   ],
   "source": [
    "for data in final_results:\n",
    "    print(data)"
   ]
  },
  {
   "cell_type": "markdown",
   "metadata": {},
   "source": [
    "### Droping Collection"
   ]
  },
  {
   "cell_type": "code",
   "execution_count": 25,
   "metadata": {},
   "outputs": [],
   "source": [
    "emp_coll.drop()"
   ]
  },
  {
   "cell_type": "code",
   "execution_count": 26,
   "metadata": {},
   "outputs": [
    {
     "data": {
      "text/plain": [
       "[]"
      ]
     },
     "execution_count": 26,
     "metadata": {},
     "output_type": "execute_result"
    }
   ],
   "source": [
    "infosys_db.list_collection_names()"
   ]
  },
  {
   "cell_type": "markdown",
   "metadata": {},
   "source": [
    "### Deleting Database"
   ]
  },
  {
   "cell_type": "code",
   "execution_count": 27,
   "metadata": {},
   "outputs": [],
   "source": [
    "myclient.drop_database(\"infosys_db\")"
   ]
  }
 ],
 "metadata": {
  "kernelspec": {
   "display_name": "Python 3",
   "language": "python",
   "name": "python3"
  },
  "language_info": {
   "codemirror_mode": {
    "name": "ipython",
    "version": 3
   },
   "file_extension": ".py",
   "mimetype": "text/x-python",
   "name": "python",
   "nbconvert_exporter": "python",
   "pygments_lexer": "ipython3",
   "version": "3.8.5"
  }
 },
 "nbformat": 4,
 "nbformat_minor": 5
}
